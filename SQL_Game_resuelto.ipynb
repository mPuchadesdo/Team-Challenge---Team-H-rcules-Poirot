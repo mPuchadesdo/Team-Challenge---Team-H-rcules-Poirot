{
 "cells": [
  {
   "cell_type": "markdown",
   "metadata": {},
   "source": [
    "\n",
    "# Práctica Grupal: SQL Murder\n",
    "Para este ejercicio os vais a ponerte la gabardina y el sombrero ya que tendréis que investigar un asesinato en *SQL City*. \n",
    "\n",
    "Aplicaréis los conecptos básicos de SQL y tendréis que manejaros con un modelo de datos, mientras resuelves un caso de asesinato :)\n",
    "\n",
    "Este espectacular juego está creado por **Joon Park y Cathy He**, y podrás encontrar todos los detalles en [su web](http://mystery.knightlab.com)\n",
    "\n",
    "Por un lado tendréis que resolver el caso a través de la propia web, donde encontrarás un intérprete de sentencias SQL interactivo. Tendréis que apuntar las queries y su resultado y cuando tengáis el caso resuelto, tendréis que armar un notebook en el que atacando a la base de datos que tenéis en el directorio data, resolváis el crimen con las mismas queries de la página web. \n",
    "\n",
    "Subiréis el notebook al repositorio del grupo y haréis una pequeña presentación del resultado y vuestras pesquisas de no más de 5 minutos. Al finalizar el sprint 7.\n",
    "\n",
    "\n",
    "### Enunciado\n",
    "A crime has taken place and the detective needs your help. The detective gave you the crime scene report, but you somehow lost it. You vaguely remember that the crime was a **murder** that occurred sometime on **Jan.15, 2018** and that it took place in **SQL City**. Start by retrieving the corresponding crime scene report from the police department’s database.\n",
    "\n",
    "\n",
    "\n"
   ]
  },
  {
   "cell_type": "code",
   "execution_count": 2,
   "metadata": {},
   "outputs": [],
   "source": [
    "import pandas as pd\n",
    "import sqlite3\n",
    "conn = sqlite3.connect(\"./Data/sql-murder-mystery.db\")\n",
    "cursor = conn.cursor()"
   ]
  },
  {
   "cell_type": "code",
   "execution_count": 3,
   "metadata": {},
   "outputs": [],
   "source": [
    "def sql_query(query):\n",
    "    cursor.execute(query)\n",
    "    resultado = cursor.fetchall()\n",
    "    col = [d[0] for d in cursor.description]\n",
    "    df = pd.DataFrame(resultado, columns=col)\n",
    "    return df"
   ]
  },
  {
   "cell_type": "code",
   "execution_count": 18,
   "metadata": {},
   "outputs": [
    {
     "data": {
      "text/plain": [
       "'Security footage shows that there were 2 witnesses. The first witness lives at the last house on \"Northwestern Dr\". The second witness, named Annabel, lives somewhere on \"Franklin Ave\".'"
      ]
     },
     "execution_count": 18,
     "metadata": {},
     "output_type": "execute_result"
    }
   ],
   "source": [
    "query = '''\n",
    "SELECT *\n",
    "FROM crime_scene_report\n",
    "WHERE date = 20180115 and city = 'SQL City' and type = 'murder'\n",
    "'''\n",
    "df = sql_query(query)\n",
    "df.description[0]"
   ]
  },
  {
   "cell_type": "code",
   "execution_count": 27,
   "metadata": {},
   "outputs": [
    {
     "data": {
      "text/plain": [
       "'I heard a gunshot and then saw a man run out. He had a \"Get Fit Now Gym\" bag. The membership number on the bag started with \"48Z\". Only gold members have those bags. The man got into a car with a plate that included \"H42W\".'"
      ]
     },
     "execution_count": 27,
     "metadata": {},
     "output_type": "execute_result"
    }
   ],
   "source": [
    "query = '''\n",
    "SELECT interview.transcript\n",
    "FROM person\n",
    "INNER JOIN interview\n",
    "ON person.id = interview.person_id\n",
    "WHERE address_street_name = \"Northwestern Dr\"\n",
    "ORDER BY address_number DESC\n",
    "LIMIT 1\n",
    "'''\n",
    "df = sql_query(query)\n",
    "df.transcript[0]"
   ]
  },
  {
   "cell_type": "code",
   "execution_count": 21,
   "metadata": {},
   "outputs": [
    {
     "data": {
      "text/plain": [
       "'I saw the murder happen, and I recognized the killer from my gym when I was working out last week on January the 9th.'"
      ]
     },
     "execution_count": 21,
     "metadata": {},
     "output_type": "execute_result"
    }
   ],
   "source": [
    "query = '''\n",
    "SELECT a.id, a.name, b.*\n",
    "FROM interview AS b\n",
    "INNER JOIN person AS a\n",
    "ON a.id = b.person_id\n",
    "WHERE a.address_street_name = \"Franklin Ave\" and b.transcript LIKE '%murder%'\n",
    "'''\n",
    "df = sql_query(query)\n",
    "df.transcript[0]"
   ]
  },
  {
   "cell_type": "code",
   "execution_count": 28,
   "metadata": {},
   "outputs": [
    {
     "data": {
      "text/plain": [
       "'Jeremy Bowers'"
      ]
     },
     "execution_count": 28,
     "metadata": {},
     "output_type": "execute_result"
    }
   ],
   "source": [
    "query = '''\n",
    "SELECT person.name\n",
    "FROM get_fit_now_member\n",
    "JOIN get_fit_now_check_in ON get_fit_now_member.id = get_fit_now_check_in.membership_id\n",
    "JOIN person ON get_fit_now_member.person_id = person.id\n",
    "JOIN drivers_license ON person.license_id = drivers_license.id\n",
    "WHERE get_fit_now_member.membership_status = \"gold\"\n",
    "    and get_fit_now_member.id LIKE \"%48Z%\"\n",
    "    and get_fit_now_check_in.check_in_date = 20180109\n",
    "    and drivers_license.plate_number LIKE \"%H42W%\";\n",
    "'''\n",
    "df = sql_query(query)\n",
    "df.name[0]"
   ]
  }
 ],
 "metadata": {
  "kernelspec": {
   "display_name": "Python 3",
   "language": "python",
   "name": "python3"
  },
  "language_info": {
   "codemirror_mode": {
    "name": "ipython",
    "version": 3
   },
   "file_extension": ".py",
   "mimetype": "text/x-python",
   "name": "python",
   "nbconvert_exporter": "python",
   "pygments_lexer": "ipython3",
   "version": "3.13.0"
  }
 },
 "nbformat": 4,
 "nbformat_minor": 2
}
